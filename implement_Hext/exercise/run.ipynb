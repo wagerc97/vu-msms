{
 "cells": [
  {
   "cell_type": "markdown",
   "id": "3d7c3563",
   "metadata": {},
   "source": [
    "# 2025-05-15\n",
    "implement the external field in external.py line 18   \n",
    "\n",
    "V is the cell size\n"
   ]
  },
  {
   "cell_type": "code",
   "execution_count": 1,
   "id": "f1bfded3",
   "metadata": {},
   "outputs": [
    {
     "ename": "NotImplementedError",
     "evalue": "",
     "output_type": "error",
     "traceback": [
      "\u001b[0;31m---------------------------------------------------------------------------\u001b[0m",
      "\u001b[0;31mNotImplementedError\u001b[0m                       Traceback (most recent call last)",
      "Cell \u001b[0;32mIn[1], line 27\u001b[0m\n\u001b[1;32m     25\u001b[0m write_vtr(m0, \u001b[38;5;124m\"\u001b[39m\u001b[38;5;124mm_start\u001b[39m\u001b[38;5;124m\"\u001b[39m, mesh)\n\u001b[1;32m     26\u001b[0m minimizer \u001b[38;5;241m=\u001b[39m Minimizer([external])\n\u001b[0;32m---> 27\u001b[0m m \u001b[38;5;241m=\u001b[39m \u001b[43mminimizer\u001b[49m\u001b[38;5;241;43m.\u001b[39;49m\u001b[43mminimize\u001b[49m\u001b[43m(\u001b[49m\u001b[43mm0\u001b[49m\u001b[43m)\u001b[49m\n\u001b[1;32m     28\u001b[0m write_vtr(m, \u001b[38;5;124m\"\u001b[39m\u001b[38;5;124mm_relaxed\u001b[39m\u001b[38;5;124m\"\u001b[39m, mesh)\n",
      "File \u001b[0;32m~/PycharmProjects/vu-msms/implement_Hext/exercise/fd/minimize.py:34\u001b[0m, in \u001b[0;36mMinimizer.minimize\u001b[0;34m(self, m, rtol, dt)\u001b[0m\n\u001b[1;32m     32\u001b[0m     dmdt \u001b[38;5;241m=\u001b[39m np\u001b[38;5;241m.\u001b[39mlinalg\u001b[38;5;241m.\u001b[39mnorm((m_current \u001b[38;5;241m-\u001b[39m m_next)\u001b[38;5;241m.\u001b[39mreshape(\u001b[38;5;241m-\u001b[39m\u001b[38;5;241m1\u001b[39m), \u001b[38;5;28mord\u001b[39m \u001b[38;5;241m=\u001b[39m np\u001b[38;5;241m.\u001b[39minf) \u001b[38;5;241m/\u001b[39m dt\n\u001b[1;32m     33\u001b[0m     \u001b[38;5;66;03m# compute total energy\u001b[39;00m\n\u001b[0;32m---> 34\u001b[0m     E \u001b[38;5;241m=\u001b[39m np\u001b[38;5;241m.\u001b[39msum([term\u001b[38;5;241m.\u001b[39mE(t, m_next) \u001b[38;5;28;01mfor\u001b[39;00m term \u001b[38;5;129;01min\u001b[39;00m \u001b[38;5;28mself\u001b[39m\u001b[38;5;241m.\u001b[39m_terms])\n\u001b[1;32m     36\u001b[0m     \u001b[38;5;28mprint\u001b[39m(\u001b[38;5;124mf\u001b[39m\u001b[38;5;124m\"\u001b[39m\u001b[38;5;124mdmdt = \u001b[39m\u001b[38;5;132;01m{\u001b[39;00mdmdt\u001b[38;5;132;01m:\u001b[39;00m\u001b[38;5;124mg\u001b[39m\u001b[38;5;132;01m}\u001b[39;00m\u001b[38;5;124m, E = \u001b[39m\u001b[38;5;132;01m{\u001b[39;00mE\u001b[38;5;132;01m:\u001b[39;00m\u001b[38;5;124mg\u001b[39m\u001b[38;5;132;01m}\u001b[39;00m\u001b[38;5;124m\"\u001b[39m)\n\u001b[1;32m     38\u001b[0m \u001b[38;5;28;01mreturn\u001b[39;00m m_next\n",
      "File \u001b[0;32m~/PycharmProjects/vu-msms/implement_Hext/exercise/fd/minimize.py:34\u001b[0m, in \u001b[0;36m<listcomp>\u001b[0;34m(.0)\u001b[0m\n\u001b[1;32m     32\u001b[0m     dmdt \u001b[38;5;241m=\u001b[39m np\u001b[38;5;241m.\u001b[39mlinalg\u001b[38;5;241m.\u001b[39mnorm((m_current \u001b[38;5;241m-\u001b[39m m_next)\u001b[38;5;241m.\u001b[39mreshape(\u001b[38;5;241m-\u001b[39m\u001b[38;5;241m1\u001b[39m), \u001b[38;5;28mord\u001b[39m \u001b[38;5;241m=\u001b[39m np\u001b[38;5;241m.\u001b[39minf) \u001b[38;5;241m/\u001b[39m dt\n\u001b[1;32m     33\u001b[0m     \u001b[38;5;66;03m# compute total energy\u001b[39;00m\n\u001b[0;32m---> 34\u001b[0m     E \u001b[38;5;241m=\u001b[39m np\u001b[38;5;241m.\u001b[39msum([\u001b[43mterm\u001b[49m\u001b[38;5;241;43m.\u001b[39;49m\u001b[43mE\u001b[49m\u001b[43m(\u001b[49m\u001b[43mt\u001b[49m\u001b[43m,\u001b[49m\u001b[43m \u001b[49m\u001b[43mm_next\u001b[49m\u001b[43m)\u001b[49m \u001b[38;5;28;01mfor\u001b[39;00m term \u001b[38;5;129;01min\u001b[39;00m \u001b[38;5;28mself\u001b[39m\u001b[38;5;241m.\u001b[39m_terms])\n\u001b[1;32m     36\u001b[0m     \u001b[38;5;28mprint\u001b[39m(\u001b[38;5;124mf\u001b[39m\u001b[38;5;124m\"\u001b[39m\u001b[38;5;124mdmdt = \u001b[39m\u001b[38;5;132;01m{\u001b[39;00mdmdt\u001b[38;5;132;01m:\u001b[39;00m\u001b[38;5;124mg\u001b[39m\u001b[38;5;132;01m}\u001b[39;00m\u001b[38;5;124m, E = \u001b[39m\u001b[38;5;132;01m{\u001b[39;00mE\u001b[38;5;132;01m:\u001b[39;00m\u001b[38;5;124mg\u001b[39m\u001b[38;5;132;01m}\u001b[39;00m\u001b[38;5;124m\"\u001b[39m)\n\u001b[1;32m     38\u001b[0m \u001b[38;5;28;01mreturn\u001b[39;00m m_next\n",
      "File \u001b[0;32m~/PycharmProjects/vu-msms/implement_Hext/exercise/fd/external.py:18\u001b[0m, in \u001b[0;36mExternalField.E\u001b[0;34m(self, t, m)\u001b[0m\n\u001b[1;32m     14\u001b[0m \u001b[38;5;28;01mdef\u001b[39;00m\u001b[38;5;250m \u001b[39m\u001b[38;5;21mE\u001b[39m(\u001b[38;5;28mself\u001b[39m, t, m):\n\u001b[1;32m     15\u001b[0m     \u001b[38;5;66;03m# TODO\u001b[39;00m\n\u001b[1;32m     16\u001b[0m     \u001b[38;5;66;03m# Implement Zeeman energy\u001b[39;00m\n\u001b[1;32m     17\u001b[0m     \u001b[38;5;66;03m# - mu_0 \\int (M, H) dx\u001b[39;00m\n\u001b[0;32m---> 18\u001b[0m     \u001b[38;5;28;01mraise\u001b[39;00m \u001b[38;5;167;01mNotImplementedError\u001b[39;00m\n",
      "\u001b[0;31mNotImplementedError\u001b[0m: "
     ]
    }
   ],
   "source": [
    "from fd import *\n",
    "import numpy as np\n",
    "\n",
    "# initialize mesh\n",
    "n  = (100, 25, 1)\n",
    "dx = (5e-9, 5e-9, 3e-9)\n",
    "mesh = Mesh(n, dx)\n",
    "\n",
    "# initialize material\n",
    "material = {\n",
    "        \"Ms\": 8e5,\n",
    "        \"A\": 1.3e-11,\n",
    "        \"K\": 1e4,\n",
    "        \"K_axis\": (0,0,1)\n",
    "        }\n",
    "\n",
    "# initialize external field pointing in y-direction\n",
    "external = ExternalField(mesh, material, (0,1,0))\n",
    "\n",
    "# initialize magnetization pointing in x=direction\n",
    "m0 = np.zeros(n + (3,))\n",
    "m0[:,:,:,0] = 1.0\n",
    "\n",
    "# minimize energy\n",
    "write_vtr(m0, \"m_start\", mesh)\n",
    "minimizer = Minimizer([external])\n",
    "m = minimizer.minimize(m0)\n",
    "write_vtr(m, \"m_relaxed\", mesh)\n"
   ]
  }
 ],
 "metadata": {
  "kernelspec": {
   "display_name": "vu-msms",
   "language": "python",
   "name": "python3"
  },
  "language_info": {
   "codemirror_mode": {
    "name": "ipython",
    "version": 3
   },
   "file_extension": ".py",
   "mimetype": "text/x-python",
   "name": "python",
   "nbconvert_exporter": "python",
   "pygments_lexer": "ipython3",
   "version": "3.10.16"
  }
 },
 "nbformat": 4,
 "nbformat_minor": 5
}
