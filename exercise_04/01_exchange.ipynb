{
 "cells": [
  {
   "cell_type": "markdown",
   "id": "5912b1cf",
   "metadata": {},
   "source": [
    "# Exchange Energy (2025-05-15)\n",
    "\n",
    "### Todo\n",
    "- Implement the exchange field and exchange energy in exchange.py \n"
   ]
  },
  {
   "cell_type": "code",
   "execution_count": null,
   "id": "5c8714be",
   "metadata": {},
   "outputs": [],
   "source": [
    "from fd import *\n",
    "import numpy as np\n",
    "\n",
    "# initialize mesh\n",
    "n  = (100, 25, 1)\n",
    "dx = (5e-9, 5e-9, 3e-9)\n",
    "mesh = Mesh(n, dx)\n",
    "\n",
    "# initialize material\n",
    "material = {\n",
    "        \"Ms\": 8e5,\n",
    "        \"A\": 1.3e-11,\n",
    "        \"K\": 1e4,\n",
    "        \"K_axis\": (0,0,1)\n",
    "        }\n",
    "\n",
    "# initialize exchange field\n",
    "exchange = ExchangeField(mesh, material)\n",
    "\n",
    "# initialize random magnetization\n",
    "m0 = np.random.rand(n[0], n[1], n[2], 3) - 0.5\n",
    "m0 = m0 / np.linalg.norm(m0, axis=3).repeat(3).reshape(m0.shape)\n",
    "\n",
    "# minimize energy\n",
    "write_vtr(m0, \"m_start\", mesh)\n",
    "minimizer = Minimizer([exchange])\n",
    "m = minimizer.minimize(m0)\n",
    "write_vtr(m, \"m_relaxed\", mesh)\n"
   ]
  }
 ],
 "metadata": {
  "language_info": {
   "name": "python"
  }
 },
 "nbformat": 4,
 "nbformat_minor": 5
}
