{
 "cells": [
  {
   "cell_type": "markdown",
   "id": "88f1a9dd",
   "metadata": {},
   "source": [
    "# Anisotropy Field (2025-05-15)\n",
    "\n",
    "### Todo\n",
    "- Implement the anisotropy field exchange.py \n"
   ]
  },
  {
   "cell_type": "code",
   "execution_count": 1,
   "id": "52c40f38",
   "metadata": {},
   "outputs": [
    {
     "ename": "NameError",
     "evalue": "name 'Path' is not defined",
     "output_type": "error",
     "traceback": [
      "\u001b[0;31m---------------------------------------------------------------------------\u001b[0m",
      "\u001b[0;31mNameError\u001b[0m                                 Traceback (most recent call last)",
      "Cell \u001b[0;32mIn[1], line 26\u001b[0m\n\u001b[1;32m     22\u001b[0m m0 \u001b[38;5;241m=\u001b[39m m0 \u001b[38;5;241m/\u001b[39m np\u001b[38;5;241m.\u001b[39mlinalg\u001b[38;5;241m.\u001b[39mnorm(m0, axis\u001b[38;5;241m=\u001b[39m\u001b[38;5;241m3\u001b[39m)\u001b[38;5;241m.\u001b[39mrepeat(\u001b[38;5;241m3\u001b[39m)\u001b[38;5;241m.\u001b[39mreshape(m0\u001b[38;5;241m.\u001b[39mshape)\n\u001b[1;32m     25\u001b[0m \u001b[38;5;66;03m# minimize energy\u001b[39;00m\n\u001b[0;32m---> 26\u001b[0m result_path \u001b[38;5;241m=\u001b[39m \u001b[43mPath\u001b[49m(\u001b[38;5;124m\"\u001b[39m\u001b[38;5;124m../results/anisotropy/\u001b[39m\u001b[38;5;124m\"\u001b[39m)\u001b[38;5;241m.\u001b[39mresolve()\n\u001b[1;32m     27\u001b[0m \u001b[38;5;28mprint\u001b[39m(\u001b[38;5;124mf\u001b[39m\u001b[38;5;124m\"\u001b[39m\u001b[38;5;124mResults folder: \u001b[39m\u001b[38;5;132;01m{\u001b[39;00mresult_path\u001b[38;5;132;01m}\u001b[39;00m\u001b[38;5;124m\"\u001b[39m)\n\u001b[1;32m     28\u001b[0m result_path\u001b[38;5;241m.\u001b[39mmkdir(parents\u001b[38;5;241m=\u001b[39m\u001b[38;5;28;01mTrue\u001b[39;00m, exist_ok\u001b[38;5;241m=\u001b[39m\u001b[38;5;28;01mTrue\u001b[39;00m)\n",
      "\u001b[0;31mNameError\u001b[0m: name 'Path' is not defined"
     ]
    }
   ],
   "source": [
    "from fd import *\n",
    "import numpy as np\n",
    "\n",
    "# initialize mesh\n",
    "n  = (100, 25, 1)\n",
    "dx = (5e-9, 5e-9, 3e-9)\n",
    "mesh = Mesh(n, dx)\n",
    "\n",
    "# initialize material\n",
    "material = {\n",
    "        \"Ms\": 8e5,\n",
    "        \"A\": 1.3e-11,\n",
    "        \"K\": 1e5,\n",
    "        \"K_axis\": (0,0,1)\n",
    "        }\n",
    "\n",
    "# initialize anisotropy field\n",
    "aniso = AnisotropyField(mesh, material)\n",
    "\n",
    "# initialize random magnetization\n",
    "m0 = np.random.rand(n[0], n[1], n[2], 3) - 0.5\n",
    "m0 = m0 / np.linalg.norm(m0, axis=3).repeat(3).reshape(m0.shape)\n",
    "\n",
    "\n",
    "# minimize energy\n",
    "result_path = Path(\"../results/anisotropy/\").resolve()\n",
    "print(f\"Results folder: {result_path}\")\n",
    "result_path.mkdir(parents=True, exist_ok=True)\n",
    "\n",
    "write_vtr(m0, str(result_path/\"m_start\"), mesh)\n",
    "print(\"wrote initial state to filepath: \", result_path/\"m_start\")\n",
    "print(\"Minimizing energy...\")\n",
    "minimizer = Minimizer([aniso])\n",
    "m = minimizer.minimize(m0, 1e-4, 1e-4)\n",
    "write_vtr(m, str(result_path/\"m_relaxed\"), mesh)\n",
    "print(\"wrote relaxed state to filepath: \", result_path/\"m_relaxed\")\n"
   ]
  },
  {
   "cell_type": "code",
   "execution_count": null,
   "id": "88cce3e9",
   "metadata": {},
   "outputs": [],
   "source": []
  }
 ],
 "metadata": {
  "kernelspec": {
   "display_name": "vu-msms",
   "language": "python",
   "name": "python3"
  },
  "language_info": {
   "codemirror_mode": {
    "name": "ipython",
    "version": 3
   },
   "file_extension": ".py",
   "mimetype": "text/x-python",
   "name": "python",
   "nbconvert_exporter": "python",
   "pygments_lexer": "ipython3",
   "version": "3.10.16"
  }
 },
 "nbformat": 4,
 "nbformat_minor": 5
}
