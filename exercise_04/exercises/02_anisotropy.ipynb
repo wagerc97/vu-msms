{
 "cells": [
  {
   "cell_type": "markdown",
   "id": "88f1a9dd",
   "metadata": {},
   "source": [
    "# Anisotropy Field (2025-05-15)\n",
    "\n",
    "### Todo\n",
    "- Implement the anisotropy field exchange.py \n"
   ]
  },
  {
   "cell_type": "code",
   "execution_count": 1,
   "id": "52c40f38",
   "metadata": {},
   "outputs": [
    {
     "name": "stderr",
     "output_type": "stream",
     "text": [
      "capi_return is NULL\n",
      "Call-back cb_fcn_in___user__routines failed.\n"
     ]
    },
    {
     "ename": "NotImplementedError",
     "evalue": "",
     "output_type": "error",
     "traceback": [
      "\u001b[0;31m---------------------------------------------------------------------------\u001b[0m",
      "\u001b[0;31mNotImplementedError\u001b[0m                       Traceback (most recent call last)",
      "Cell \u001b[0;32mIn[1], line 27\u001b[0m\n\u001b[1;32m     25\u001b[0m write_vtr(m0, \u001b[38;5;124m\"\u001b[39m\u001b[38;5;124mm_start\u001b[39m\u001b[38;5;124m\"\u001b[39m, mesh)\n\u001b[1;32m     26\u001b[0m minimizer \u001b[38;5;241m=\u001b[39m Minimizer([aniso])\n\u001b[0;32m---> 27\u001b[0m m \u001b[38;5;241m=\u001b[39m \u001b[43mminimizer\u001b[49m\u001b[38;5;241;43m.\u001b[39;49m\u001b[43mminimize\u001b[49m\u001b[43m(\u001b[49m\u001b[43mm0\u001b[49m\u001b[43m,\u001b[49m\u001b[43m \u001b[49m\u001b[38;5;241;43m1e-4\u001b[39;49m\u001b[43m,\u001b[49m\u001b[43m \u001b[49m\u001b[38;5;241;43m1e-4\u001b[39;49m\u001b[43m)\u001b[49m\n\u001b[1;32m     28\u001b[0m write_vtr(m, \u001b[38;5;124m\"\u001b[39m\u001b[38;5;124mm_relaxed\u001b[39m\u001b[38;5;124m\"\u001b[39m, mesh)\n",
      "File \u001b[0;32m~/PycharmProjects/vu-msms/exercise_04/fd/minimize.py:27\u001b[0m, in \u001b[0;36mMinimizer.minimize\u001b[0;34m(self, m, rtol, dt)\u001b[0m\n\u001b[1;32m     25\u001b[0m t \u001b[38;5;241m+\u001b[39m\u001b[38;5;241m=\u001b[39m dt\n\u001b[1;32m     26\u001b[0m m_current[:] \u001b[38;5;241m=\u001b[39m m_next\n\u001b[0;32m---> 27\u001b[0m m_next \u001b[38;5;241m=\u001b[39m \u001b[43mode\u001b[49m\u001b[38;5;241;43m.\u001b[39;49m\u001b[43mintegrate\u001b[49m\u001b[43m(\u001b[49m\u001b[43mt\u001b[49m\u001b[43m)\u001b[49m\u001b[38;5;241m.\u001b[39mreshape(shape)\n\u001b[1;32m     29\u001b[0m \u001b[38;5;66;03m# TODO renormalize\u001b[39;00m\n\u001b[1;32m     30\u001b[0m \n\u001b[1;32m     31\u001b[0m \u001b[38;5;66;03m# compute max norm of dm/dt\u001b[39;00m\n\u001b[1;32m     32\u001b[0m dmdt \u001b[38;5;241m=\u001b[39m np\u001b[38;5;241m.\u001b[39mlinalg\u001b[38;5;241m.\u001b[39mnorm((m_current \u001b[38;5;241m-\u001b[39m m_next)\u001b[38;5;241m.\u001b[39mreshape(\u001b[38;5;241m-\u001b[39m\u001b[38;5;241m1\u001b[39m), \u001b[38;5;28mord\u001b[39m \u001b[38;5;241m=\u001b[39m np\u001b[38;5;241m.\u001b[39minf) \u001b[38;5;241m/\u001b[39m dt\n",
      "File \u001b[0;32m~/miniconda3/envs/vu-msms/lib/python3.10/site-packages/scipy/integrate/_ode.py:438\u001b[0m, in \u001b[0;36mode.integrate\u001b[0;34m(self, t, step, relax)\u001b[0m\n\u001b[1;32m    435\u001b[0m     mth \u001b[38;5;241m=\u001b[39m \u001b[38;5;28mself\u001b[39m\u001b[38;5;241m.\u001b[39m_integrator\u001b[38;5;241m.\u001b[39mrun\n\u001b[1;32m    437\u001b[0m \u001b[38;5;28;01mtry\u001b[39;00m:\n\u001b[0;32m--> 438\u001b[0m     \u001b[38;5;28mself\u001b[39m\u001b[38;5;241m.\u001b[39m_y, \u001b[38;5;28mself\u001b[39m\u001b[38;5;241m.\u001b[39mt \u001b[38;5;241m=\u001b[39m \u001b[43mmth\u001b[49m\u001b[43m(\u001b[49m\u001b[38;5;28;43mself\u001b[39;49m\u001b[38;5;241;43m.\u001b[39;49m\u001b[43mf\u001b[49m\u001b[43m,\u001b[49m\u001b[43m \u001b[49m\u001b[38;5;28;43mself\u001b[39;49m\u001b[38;5;241;43m.\u001b[39;49m\u001b[43mjac\u001b[49m\u001b[43m \u001b[49m\u001b[38;5;129;43;01mor\u001b[39;49;00m\u001b[43m \u001b[49m\u001b[43m(\u001b[49m\u001b[38;5;28;43;01mlambda\u001b[39;49;00m\u001b[43m:\u001b[49m\u001b[43m \u001b[49m\u001b[38;5;28;43;01mNone\u001b[39;49;00m\u001b[43m)\u001b[49m\u001b[43m,\u001b[49m\n\u001b[1;32m    439\u001b[0m \u001b[43m                          \u001b[49m\u001b[38;5;28;43mself\u001b[39;49m\u001b[38;5;241;43m.\u001b[39;49m\u001b[43m_y\u001b[49m\u001b[43m,\u001b[49m\u001b[43m \u001b[49m\u001b[38;5;28;43mself\u001b[39;49m\u001b[38;5;241;43m.\u001b[39;49m\u001b[43mt\u001b[49m\u001b[43m,\u001b[49m\u001b[43m \u001b[49m\u001b[43mt\u001b[49m\u001b[43m,\u001b[49m\n\u001b[1;32m    440\u001b[0m \u001b[43m                          \u001b[49m\u001b[38;5;28;43mself\u001b[39;49m\u001b[38;5;241;43m.\u001b[39;49m\u001b[43mf_params\u001b[49m\u001b[43m,\u001b[49m\u001b[43m \u001b[49m\u001b[38;5;28;43mself\u001b[39;49m\u001b[38;5;241;43m.\u001b[39;49m\u001b[43mjac_params\u001b[49m\u001b[43m)\u001b[49m\n\u001b[1;32m    441\u001b[0m \u001b[38;5;28;01mexcept\u001b[39;00m \u001b[38;5;167;01mSystemError\u001b[39;00m \u001b[38;5;28;01mas\u001b[39;00m e:\n\u001b[1;32m    442\u001b[0m     \u001b[38;5;66;03m# f2py issue with tuple returns, see ticket 1187.\u001b[39;00m\n\u001b[1;32m    443\u001b[0m     \u001b[38;5;28;01mraise\u001b[39;00m \u001b[38;5;167;01mValueError\u001b[39;00m(\n\u001b[1;32m    444\u001b[0m         \u001b[38;5;124m'\u001b[39m\u001b[38;5;124mFunction to integrate must not return a tuple.\u001b[39m\u001b[38;5;124m'\u001b[39m\n\u001b[1;32m    445\u001b[0m     ) \u001b[38;5;28;01mfrom\u001b[39;00m\u001b[38;5;250m \u001b[39m\u001b[38;5;21;01me\u001b[39;00m\n",
      "File \u001b[0;32m~/miniconda3/envs/vu-msms/lib/python3.10/site-packages/scipy/integrate/_ode.py:1185\u001b[0m, in \u001b[0;36mdopri5.run\u001b[0;34m(self, f, jac, y0, t0, t1, f_params, jac_params)\u001b[0m\n\u001b[1;32m   1184\u001b[0m \u001b[38;5;28;01mdef\u001b[39;00m\u001b[38;5;250m \u001b[39m\u001b[38;5;21mrun\u001b[39m(\u001b[38;5;28mself\u001b[39m, f, jac, y0, t0, t1, f_params, jac_params):\n\u001b[0;32m-> 1185\u001b[0m     x, y, iwork, istate \u001b[38;5;241m=\u001b[39m \u001b[38;5;28;43mself\u001b[39;49m\u001b[38;5;241;43m.\u001b[39;49m\u001b[43mrunner\u001b[49m\u001b[43m(\u001b[49m\u001b[38;5;241;43m*\u001b[39;49m\u001b[43m(\u001b[49m\u001b[43m(\u001b[49m\u001b[43mf\u001b[49m\u001b[43m,\u001b[49m\u001b[43m \u001b[49m\u001b[43mt0\u001b[49m\u001b[43m,\u001b[49m\u001b[43m \u001b[49m\u001b[43my0\u001b[49m\u001b[43m,\u001b[49m\u001b[43m \u001b[49m\u001b[43mt1\u001b[49m\u001b[43m)\u001b[49m\u001b[43m \u001b[49m\u001b[38;5;241;43m+\u001b[39;49m\n\u001b[1;32m   1186\u001b[0m \u001b[43m                                      \u001b[49m\u001b[38;5;28;43mtuple\u001b[39;49m\u001b[43m(\u001b[49m\u001b[38;5;28;43mself\u001b[39;49m\u001b[38;5;241;43m.\u001b[39;49m\u001b[43mcall_args\u001b[49m\u001b[43m)\u001b[49m\u001b[43m \u001b[49m\u001b[38;5;241;43m+\u001b[39;49m\u001b[43m \u001b[49m\u001b[43m(\u001b[49m\u001b[43mf_params\u001b[49m\u001b[43m,\u001b[49m\u001b[43m)\u001b[49m\u001b[43m)\u001b[49m\u001b[43m)\u001b[49m\n\u001b[1;32m   1187\u001b[0m     \u001b[38;5;28mself\u001b[39m\u001b[38;5;241m.\u001b[39mistate \u001b[38;5;241m=\u001b[39m istate\n\u001b[1;32m   1188\u001b[0m     \u001b[38;5;28;01mif\u001b[39;00m istate \u001b[38;5;241m<\u001b[39m \u001b[38;5;241m0\u001b[39m:\n",
      "File \u001b[0;32m~/PycharmProjects/vu-msms/exercise_04/fd/minimize.py:15\u001b[0m, in \u001b[0;36mMinimizer.minimize.<locals>.<lambda>\u001b[0;34m(t, m)\u001b[0m\n\u001b[1;32m     13\u001b[0m \u001b[38;5;28;01mdef\u001b[39;00m\u001b[38;5;250m \u001b[39m\u001b[38;5;21mminimize\u001b[39m(\u001b[38;5;28mself\u001b[39m, m, rtol \u001b[38;5;241m=\u001b[39m \u001b[38;5;241m1e-4\u001b[39m, dt \u001b[38;5;241m=\u001b[39m \u001b[38;5;241m1e-2\u001b[39m):\n\u001b[1;32m     14\u001b[0m     shape \u001b[38;5;241m=\u001b[39m m\u001b[38;5;241m.\u001b[39mshape\n\u001b[0;32m---> 15\u001b[0m     ode \u001b[38;5;241m=\u001b[39m integrate\u001b[38;5;241m.\u001b[39mode(\u001b[38;5;28;01mlambda\u001b[39;00m t, m: \u001b[38;5;28;43mself\u001b[39;49m\u001b[38;5;241;43m.\u001b[39;49m\u001b[43m_dm\u001b[49m\u001b[43m(\u001b[49m\u001b[43mt\u001b[49m\u001b[43m,\u001b[49m\u001b[43m \u001b[49m\u001b[43mm\u001b[49m\u001b[38;5;241;43m.\u001b[39;49m\u001b[43mreshape\u001b[49m\u001b[43m(\u001b[49m\u001b[43mshape\u001b[49m\u001b[43m)\u001b[49m\u001b[43m)\u001b[49m\u001b[38;5;241m.\u001b[39mreshape(\u001b[38;5;241m-\u001b[39m\u001b[38;5;241m1\u001b[39m))\n\u001b[1;32m     16\u001b[0m     ode\u001b[38;5;241m.\u001b[39mset_initial_value(m\u001b[38;5;241m.\u001b[39mreshape(\u001b[38;5;241m-\u001b[39m\u001b[38;5;241m1\u001b[39m), \u001b[38;5;241m0.\u001b[39m)\n\u001b[1;32m     17\u001b[0m     ode\u001b[38;5;241m.\u001b[39mset_integrator(\u001b[38;5;124m\"\u001b[39m\u001b[38;5;124mdopri5\u001b[39m\u001b[38;5;124m\"\u001b[39m)\n",
      "File \u001b[0;32m~/PycharmProjects/vu-msms/exercise_04/fd/minimize.py:9\u001b[0m, in \u001b[0;36mMinimizer._dm\u001b[0;34m(self, t, m)\u001b[0m\n\u001b[1;32m      8\u001b[0m \u001b[38;5;28;01mdef\u001b[39;00m\u001b[38;5;250m \u001b[39m\u001b[38;5;21m_dm\u001b[39m(\u001b[38;5;28mself\u001b[39m, t, m):\n\u001b[0;32m----> 9\u001b[0m     h \u001b[38;5;241m=\u001b[39m np\u001b[38;5;241m.\u001b[39msum([term\u001b[38;5;241m.\u001b[39mh(t, m) \u001b[38;5;28;01mfor\u001b[39;00m term \u001b[38;5;129;01min\u001b[39;00m \u001b[38;5;28mself\u001b[39m\u001b[38;5;241m.\u001b[39m_terms], axis\u001b[38;5;241m=\u001b[39m\u001b[38;5;241m0\u001b[39m)\n\u001b[1;32m     10\u001b[0m     result \u001b[38;5;241m=\u001b[39m\u001b[38;5;241m-\u001b[39m np\u001b[38;5;241m.\u001b[39mcross(m, np\u001b[38;5;241m.\u001b[39mcross(m, h))\n\u001b[1;32m     11\u001b[0m     \u001b[38;5;28;01mreturn\u001b[39;00m result\n",
      "File \u001b[0;32m~/PycharmProjects/vu-msms/exercise_04/fd/minimize.py:9\u001b[0m, in \u001b[0;36m<listcomp>\u001b[0;34m(.0)\u001b[0m\n\u001b[1;32m      8\u001b[0m \u001b[38;5;28;01mdef\u001b[39;00m\u001b[38;5;250m \u001b[39m\u001b[38;5;21m_dm\u001b[39m(\u001b[38;5;28mself\u001b[39m, t, m):\n\u001b[0;32m----> 9\u001b[0m     h \u001b[38;5;241m=\u001b[39m np\u001b[38;5;241m.\u001b[39msum([\u001b[43mterm\u001b[49m\u001b[38;5;241;43m.\u001b[39;49m\u001b[43mh\u001b[49m\u001b[43m(\u001b[49m\u001b[43mt\u001b[49m\u001b[43m,\u001b[49m\u001b[43m \u001b[49m\u001b[43mm\u001b[49m\u001b[43m)\u001b[49m \u001b[38;5;28;01mfor\u001b[39;00m term \u001b[38;5;129;01min\u001b[39;00m \u001b[38;5;28mself\u001b[39m\u001b[38;5;241m.\u001b[39m_terms], axis\u001b[38;5;241m=\u001b[39m\u001b[38;5;241m0\u001b[39m)\n\u001b[1;32m     10\u001b[0m     result \u001b[38;5;241m=\u001b[39m\u001b[38;5;241m-\u001b[39m np\u001b[38;5;241m.\u001b[39mcross(m, np\u001b[38;5;241m.\u001b[39mcross(m, h))\n\u001b[1;32m     11\u001b[0m     \u001b[38;5;28;01mreturn\u001b[39;00m result\n",
      "File \u001b[0;32m~/PycharmProjects/vu-msms/exercise_04/fd/anisotropy.py:15\u001b[0m, in \u001b[0;36mAnisotropyField.h\u001b[0;34m(self, t, m)\u001b[0m\n\u001b[1;32m     11\u001b[0m \u001b[38;5;28;01mdef\u001b[39;00m\u001b[38;5;250m \u001b[39m\u001b[38;5;21mh\u001b[39m(\u001b[38;5;28mself\u001b[39m, t, m):\n\u001b[1;32m     12\u001b[0m     \u001b[38;5;66;03m# TODO\u001b[39;00m\n\u001b[1;32m     13\u001b[0m     \u001b[38;5;66;03m# Implement anisotropy field:\u001b[39;00m\n\u001b[1;32m     14\u001b[0m     \u001b[38;5;66;03m# 2 * K / (mu_0 * Ms) * K_axis * <K_axis, m>\u001b[39;00m\n\u001b[0;32m---> 15\u001b[0m     \u001b[38;5;28;01mraise\u001b[39;00m \u001b[38;5;167;01mNotImplementedError\u001b[39;00m\n",
      "\u001b[0;31mNotImplementedError\u001b[0m: "
     ]
    }
   ],
   "source": [
    "from fd import *\n",
    "import numpy as np\n",
    "\n",
    "# initialize mesh\n",
    "n  = (100, 25, 1)\n",
    "dx = (5e-9, 5e-9, 3e-9)\n",
    "mesh = Mesh(n, dx)\n",
    "\n",
    "# initialize material\n",
    "material = {\n",
    "        \"Ms\": 8e5,\n",
    "        \"A\": 1.3e-11,\n",
    "        \"K\": 1e5,\n",
    "        \"K_axis\": (0,0,1)\n",
    "        }\n",
    "\n",
    "# initialize anisotropy field\n",
    "aniso = AnisotropyField(mesh, material)\n",
    "\n",
    "# initialize random magnetization\n",
    "m0 = np.random.rand(n[0], n[1], n[2], 3) - 0.5\n",
    "m0 = m0 / np.linalg.norm(m0, axis=3).repeat(3).reshape(m0.shape)\n",
    "\n",
    "# minimize energy\n",
    "write_vtr(m0, \"m_start\", mesh)\n",
    "minimizer = Minimizer([aniso])\n",
    "m = minimizer.minimize(m0, 1e-4, 1e-4)\n",
    "write_vtr(m, \"m_relaxed\", mesh)\n"
   ]
  },
  {
   "cell_type": "code",
   "execution_count": null,
   "id": "88cce3e9",
   "metadata": {},
   "outputs": [],
   "source": []
  }
 ],
 "metadata": {
  "kernelspec": {
   "display_name": "vu-msms",
   "language": "python",
   "name": "python3"
  },
  "language_info": {
   "codemirror_mode": {
    "name": "ipython",
    "version": 3
   },
   "file_extension": ".py",
   "mimetype": "text/x-python",
   "name": "python",
   "nbconvert_exporter": "python",
   "pygments_lexer": "ipython3",
   "version": "3.10.16"
  }
 },
 "nbformat": 4,
 "nbformat_minor": 5
}
