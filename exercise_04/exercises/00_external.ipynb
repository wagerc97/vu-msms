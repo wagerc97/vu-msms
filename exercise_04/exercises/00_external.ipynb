{
 "cells": [
  {
   "cell_type": "markdown",
   "id": "3d7c3563",
   "metadata": {},
   "source": [
    "# External Field (2025-05-15)\n",
    "\n",
    "### Todo\n",
    "- [X] Implement the external field in fd/external.py \n",
    "\n",
    "### Notes\n",
    "- V is the cell size\n"
   ]
  },
  {
   "cell_type": "code",
   "execution_count": null,
   "id": "f1bfded3",
   "metadata": {},
   "outputs": [
    {
     "name": "stdout",
     "output_type": "stream",
     "text": [
      "Results folder: /home/wager/PycharmProjects/vu-msms/exercise_04/output/external\n",
      "wrote initial state to filepath:  /home/wager/PycharmProjects/vu-msms/exercise_04/output/external/m_start\n",
      "Minimizing energy...\n",
      "wrote relaxed state to filepath:  /home/wager/PycharmProjects/vu-msms/exercise_04/output/external/m_relaxed\n"
     ]
    }
   ],
   "source": [
    "from fd import *\n",
    "import numpy as np\n",
    "from pathlib import Path\n",
    "\n",
    "# initialize mesh\n",
    "n  = (100, 25, 1)\n",
    "dx = (5e-9, 5e-9, 3e-9)\n",
    "mesh = Mesh(n, dx)\n",
    "\n",
    "# initialize material\n",
    "material = {\n",
    "        \"Ms\": 8e5,              # saturation magnetization (A/m)\n",
    "        \"A\": 1.3e-11,           # exchange stiffness (J/m)\n",
    "        \"K\": 1e4,               # uniaxial anisotropy (J/m^3)\n",
    "        \"K_axis\": (0,0,1)       # uniaxial anisotropy axis\n",
    "        }\n",
    "\n",
    "# initialize external field pointing in y-direction\n",
    "external = ExternalField(mesh, material, (0,1,0))\n",
    "\n",
    "# initialize magnetization pointing in x=direction\n",
    "m0 = np.zeros(n + (3,))\n",
    "m0[:,:,:,0] = 1.0\n",
    "\n",
    "# minimize energy\n",
    "result_path = Path(\"../output/external/\").resolve()\n",
    "print(f\"Results folder: {result_path}\")\n",
    "result_path.mkdir(parents=True, exist_ok=True)\n",
    "\n",
    "write_vtr(m0, str(result_path/\"m_start\"), mesh)\n",
    "print(\"wrote initial state to filepath: \", result_path/\"m_start\")\n",
    "print(\"Minimizing energy...\")\n",
    "minimizer = Minimizer([external])\n",
    "m = minimizer.minimize(m0, verbose=False)\n",
    "write_vtr(m, str(result_path/\"m_relaxed\"), mesh)\n",
    "print(\"wrote relaxed state to filepath: \", result_path/\"m_relaxed\")\n"
   ]
  }
 ],
 "metadata": {
  "kernelspec": {
   "display_name": "vu-msms",
   "language": "python",
   "name": "python3"
  },
  "language_info": {
   "codemirror_mode": {
    "name": "ipython",
    "version": 3
   },
   "file_extension": ".py",
   "mimetype": "text/x-python",
   "name": "python",
   "nbconvert_exporter": "python",
   "pygments_lexer": "ipython3",
   "version": "3.10.16"
  }
 },
 "nbformat": 4,
 "nbformat_minor": 5
}
