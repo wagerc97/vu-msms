{
 "cells": [
  {
   "cell_type": "markdown",
   "id": "88f1a9dd",
   "metadata": {},
   "source": [
    "# Anisotropy Field (2025-05-15)\n",
    "\n",
    "### Todo\n",
    "- Implement the anisotropy field exchange.py \n"
   ]
  },
  {
   "cell_type": "code",
   "execution_count": null,
   "id": "52c40f38",
   "metadata": {},
   "outputs": [
    {
     "ename": "ModuleNotFoundError",
     "evalue": "No module named 'fd'",
     "output_type": "error",
     "traceback": [
      "\u001b[0;31m---------------------------------------------------------------------------\u001b[0m",
      "\u001b[0;31mModuleNotFoundError\u001b[0m                       Traceback (most recent call last)",
      "Cell \u001b[0;32mIn[1], line 1\u001b[0m\n\u001b[0;32m----> 1\u001b[0m \u001b[38;5;28;01mfrom\u001b[39;00m\u001b[38;5;250m \u001b[39m\u001b[38;5;21;01mfd\u001b[39;00m\u001b[38;5;250m \u001b[39m\u001b[38;5;28;01mimport\u001b[39;00m \u001b[38;5;241m*\u001b[39m\n\u001b[1;32m      2\u001b[0m \u001b[38;5;28;01mimport\u001b[39;00m\u001b[38;5;250m \u001b[39m\u001b[38;5;21;01mnumpy\u001b[39;00m\u001b[38;5;250m \u001b[39m\u001b[38;5;28;01mas\u001b[39;00m\u001b[38;5;250m \u001b[39m\u001b[38;5;21;01mnp\u001b[39;00m\n\u001b[1;32m      4\u001b[0m \u001b[38;5;66;03m# initialize mesh\u001b[39;00m\n",
      "\u001b[0;31mModuleNotFoundError\u001b[0m: No module named 'fd'"
     ]
    }
   ],
   "source": [
    "from fd import *\n",
    "import numpy as np\n",
    "\n",
    "# initialize mesh\n",
    "n  = (100, 25, 1)\n",
    "dx = (5e-9, 5e-9, 3e-9)\n",
    "mesh = Mesh(n, dx)\n",
    "\n",
    "# initialize material\n",
    "material = {\n",
    "        \"Ms\": 8e5,\n",
    "        \"A\": 1.3e-11,\n",
    "        \"K\": 1e5,\n",
    "        \"K_axis\": (0,0,1)\n",
    "        }\n",
    "\n",
    "# initialize anisotropy field\n",
    "aniso = AnisotropyField(mesh, material)\n",
    "\n",
    "# initialize random magnetization\n",
    "m0 = np.random.rand(n[0], n[1], n[2], 3) - 0.5\n",
    "m0 = m0 / np.linalg.norm(m0, axis=3).repeat(3).reshape(m0.shape)\n",
    "\n",
    "# minimize energy\n",
    "write_vtr(m0, \"m_start\", mesh)\n",
    "minimizer = Minimizer([aniso])\n",
    "m = minimizer.minimize(m0, 1e-4, 1e-4)\n",
    "write_vtr(m, \"m_relaxed\", mesh)\n"
   ]
  },
  {
   "cell_type": "code",
   "execution_count": null,
   "id": "88cce3e9",
   "metadata": {},
   "outputs": [],
   "source": []
  }
 ],
 "metadata": {
  "kernelspec": {
   "display_name": "vu-msms",
   "language": "python",
   "name": "python3"
  },
  "language_info": {
   "codemirror_mode": {
    "name": "ipython",
    "version": 3
   },
   "file_extension": ".py",
   "mimetype": "text/x-python",
   "name": "python",
   "nbconvert_exporter": "python",
   "pygments_lexer": "ipython3",
   "version": "3.10.16"
  }
 },
 "nbformat": 4,
 "nbformat_minor": 5
}
